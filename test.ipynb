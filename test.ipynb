{
 "cells": [
  {
   "cell_type": "code",
   "execution_count": 9,
   "metadata": {
    "collapsed": true,
    "pycharm": {
     "name": "#%%\n"
    }
   },
   "outputs": [
    {
     "data": {
      "text/plain": "True"
     },
     "execution_count": 9,
     "metadata": {},
     "output_type": "execute_result"
    }
   ],
   "source": [
    "import openai\n",
    "import os\n",
    "from dotenv import load_dotenv\n",
    "\n",
    "load_dotenv()"
   ]
  },
  {
   "cell_type": "code",
   "execution_count": 2,
   "outputs": [],
   "source": [
    "from pdfminer.high_level import extract_pages\n",
    "from pdfminer.layout import LTTextContainer"
   ],
   "metadata": {
    "collapsed": false,
    "pycharm": {
     "name": "#%%\n"
    }
   }
  },
  {
   "cell_type": "code",
   "execution_count": 11,
   "outputs": [
    {
     "name": "stdout",
     "output_type": "stream",
     "text": [
      "<class 'str'>\n"
     ]
    }
   ],
   "source": [
    "print(os.getenv(\"OPENAI_API_KEY\"))"
   ],
   "metadata": {
    "collapsed": false,
    "pycharm": {
     "name": "#%%\n"
    }
   }
  },
  {
   "cell_type": "code",
   "execution_count": 3,
   "outputs": [],
   "source": [
    "filepath = './alexnet.pdf'"
   ],
   "metadata": {
    "collapsed": false,
    "pycharm": {
     "name": "#%%\n"
    }
   }
  },
  {
   "cell_type": "code",
   "execution_count": 6,
   "outputs": [
    {
     "name": "stdout",
     "output_type": "stream",
     "text": [
      "['Abstract\\n', 'Introduction\\n', '2 The Dataset\\n', '3 The Architecture\\n', '3.1 ReLU Nonlinearity\\n', '3.2 Training on Multiple GPUs\\n', 'x,y = ai\\nbi\\n', 'x,y/\\n', '\\uf8edk + α\\n', 'min(N −1,i+n/2)\\n(cid:88)\\n', '(aj\\n', 'x,y)2\\n', '\\uf8f6\\nβ\\n', 'j=max(0,i−n/2)\\n', '3.4 Overlapping Pooling\\n', '3.5 Overall Architecture\\n', '4 Reducing Overﬁtting\\n', '4.1 Data Augmentation\\n', 'xy, I G\\n', 'xy, I B\\n', '4.2 Dropout\\n', '5 Details of learning\\n', 'vi+1\\n', 'wi+1\\n', ':= wi + vi+1\\n', '(cid:29)\\n', '(cid:28) ∂L\\n∂w\\n', '(cid:12)\\n(cid:12)wi\\n', '(cid:68) ∂L\\n∂w\\n', '(cid:12)\\n(cid:12)wi\\n', '(cid:69)\\n', '6 Results\\n', '26.2%\\n—\\n16.4%\\n—\\n15.3%\\n', '—\\n40.7%\\n38.1%\\n39.0%\\n36.7%\\n', '6.1 Qualitative Evaluations\\n', '18.3%.\\n', '7 Discussion\\n', 'References\\n', '9(2):75–79, 2007.\\n', 'net.org/challenges. 2010.\\n', 'ILSVRC-2012, 2012. URL\\n', 'ESANN, 2011.\\n']\n"
     ]
    }
   ],
   "source": [
    "possible_titles = []\n",
    "for page_layout in extract_pages(filepath):\n",
    "    for element in page_layout:\n",
    "        if isinstance(element, LTTextContainer):\n",
    "            txt = element.get_text()\n",
    "            if 30 >= len(txt) > 3:\n",
    "                possible_titles.append(txt)\n",
    "\n",
    "print(possible_titles)"
   ],
   "metadata": {
    "collapsed": false,
    "pycharm": {
     "name": "#%%\n"
    }
   }
  },
  {
   "cell_type": "code",
   "execution_count": null,
   "outputs": [],
   "source": [],
   "metadata": {
    "collapsed": false,
    "pycharm": {
     "name": "#%%\n"
    }
   }
  }
 ],
 "metadata": {
  "kernelspec": {
   "display_name": "Python 3",
   "language": "python",
   "name": "python3"
  },
  "language_info": {
   "codemirror_mode": {
    "name": "ipython",
    "version": 2
   },
   "file_extension": ".py",
   "mimetype": "text/x-python",
   "name": "python",
   "nbconvert_exporter": "python",
   "pygments_lexer": "ipython2",
   "version": "2.7.6"
  }
 },
 "nbformat": 4,
 "nbformat_minor": 0
}